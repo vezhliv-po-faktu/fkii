{
  "nbformat": 4,
  "nbformat_minor": 0,
  "metadata": {
    "colab": {
      "provenance": [],
      "authorship_tag": "ABX9TyMvWMT7QRmuoRiIfN4hjlOe"
    },
    "kernelspec": {
      "name": "python3",
      "display_name": "Python 3"
    },
    "language_info": {
      "name": "python"
    }
  },
  "cells": [
    {
      "cell_type": "code",
      "execution_count": null,
      "metadata": {
        "colab": {
          "base_uri": "https://localhost:8080/"
        },
        "id": "BtJU5zr9Pd01",
        "outputId": "ac737aab-0a76-40be-e0c4-125e2307f7df"
      },
      "outputs": [
        {
          "output_type": "stream",
          "name": "stdout",
          "text": [
            "Collecting pygmo\n",
            "  Downloading pygmo-2.19.5-cp310-cp310-manylinux_2_28_x86_64.whl.metadata (978 bytes)\n",
            "Requirement already satisfied: numpy in /usr/local/lib/python3.10/dist-packages (from pygmo) (1.26.4)\n",
            "Requirement already satisfied: cloudpickle in /usr/local/lib/python3.10/dist-packages (from pygmo) (3.1.0)\n",
            "Requirement already satisfied: scipy in /usr/local/lib/python3.10/dist-packages (from pygmo) (1.13.1)\n",
            "Downloading pygmo-2.19.5-cp310-cp310-manylinux_2_28_x86_64.whl (14.7 MB)\n",
            "\u001b[2K   \u001b[90m━━━━━━━━━━━━━━━━━━━━━━━━━━━━━━━━━━━━━━━━\u001b[0m \u001b[32m14.7/14.7 MB\u001b[0m \u001b[31m16.3 MB/s\u001b[0m eta \u001b[36m0:00:00\u001b[0m\n",
            "\u001b[?25hInstalling collected packages: pygmo\n",
            "Successfully installed pygmo-2.19.5\n"
          ]
        }
      ],
      "source": [
        "!pip install pygmo"
      ]
    },
    {
      "cell_type": "code",
      "source": [
        "import pygmo as pg\n",
        "\n",
        "# Функция Матьяса\n",
        "class MatyasFunction:\n",
        "    def fitness(self, x):\n",
        "        return [0.26 * (x[0]**2 + x[1]**2) - 0.48 * x[0] * x[1]]\n",
        "\n",
        "    def get_bounds(self):\n",
        "        return ([-10, -10], [10, 10])  # Границы для x и y\n",
        "\n",
        "# Функция Бута\n",
        "class BoothFunction:\n",
        "    def fitness(self, x):\n",
        "        return [(x[0] + 2 * x[1] - 7)**2 + (2 * x[0] + x[1] - 5)**2]\n",
        "\n",
        "    def get_bounds(self):\n",
        "        return ([-10, -10], [10, 10])"
      ],
      "metadata": {
        "id": "IF511wKzQBxD"
      },
      "execution_count": null,
      "outputs": []
    },
    {
      "cell_type": "code",
      "source": [
        "import time\n",
        "\n",
        "# Список задач\n",
        "problems = [pg.problem(MatyasFunction()), pg.problem(BoothFunction())]\n",
        "\n",
        "# Алгоритмы для тестирования\n",
        "algorithms = [\n",
        "    (pg.algorithm(pg.de(gen=100)), \"Differential Evolution\"),\n",
        "    (pg.algorithm(pg.simulated_annealing()), \"Simulated Annealing\"),\n",
        "    (pg.algorithm(pg.pso(gen=100)), \"Particle Swarm Optimization\")\n",
        "]\n",
        "\n",
        "# Таблица результатов\n",
        "results = []\n",
        "\n",
        "for i, problem in enumerate(problems):\n",
        "    for algo, name in algorithms:\n",
        "        population = pg.population(problem, size=20)\n",
        "\n",
        "        # Замер времени выполнения\n",
        "        start_time = time.time()\n",
        "        evolved_pop = algo.evolve(population)\n",
        "        end_time = time.time()\n",
        "\n",
        "        # Сбор данных\n",
        "        best_fitness = evolved_pop.champion_f[0]\n",
        "        best_solution = evolved_pop.champion_x\n",
        "        elapsed_time = end_time - start_time\n",
        "\n",
        "        results.append((f\"Функция {i+1}\", name, best_solution, best_fitness, elapsed_time))\n",
        "\n",
        "# Вывод таблицы результатов\n",
        "print(\"Таблица результатов:\")\n",
        "print(f\"{'Функция':<10} {'Алгоритм':<25} {'Оптимум':<25} {'Значение':<15} {'Время (сек)':<10}\")\n",
        "for row in results:\n",
        "    print(f\"{row[0]:<10} {row[1]:<25} {str(row[2]):<25} {row[3]:<15.6f} {row[4]:<10.6f}\")\n"
      ],
      "metadata": {
        "colab": {
          "base_uri": "https://localhost:8080/"
        },
        "id": "-VxWGlQEQCjS",
        "outputId": "82e2bec6-b658-44ac-d4f5-22b6358a550b"
      },
      "execution_count": null,
      "outputs": [
        {
          "output_type": "stream",
          "name": "stdout",
          "text": [
            "Таблица результатов:\n",
            "Функция    Алгоритм                  Оптимум                   Значение        Время (сек)\n",
            "Функция 1  Differential Evolution    [0.00014756 0.00018379]   0.000000        0.003719  \n",
            "Функция 1  Simulated Annealing       [0.453602   0.51796293]   0.010475        0.001027  \n",
            "Функция 1  Particle Swarm Optimization [-1.21160814e-04 -3.60721296e-05] 0.000000        0.005278  \n",
            "Функция 2  Differential Evolution    [1.00011377 2.99991126]   0.000000        0.003936  \n",
            "Функция 2  Simulated Annealing       [1.07145338 2.91216939]   0.013893        0.001140  \n",
            "Функция 2  Particle Swarm Optimization [1.00002657 2.99996445]   0.000000        0.005676  \n"
          ]
        }
      ]
    }
  ]
}